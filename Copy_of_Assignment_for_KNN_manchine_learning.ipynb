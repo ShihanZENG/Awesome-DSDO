{
  "cells": [
    {
      "cell_type": "markdown",
      "metadata": {
        "id": "view-in-github",
        "colab_type": "text"
      },
      "source": [
        "<a href=\"https://colab.research.google.com/github/ShihanZENG/Awesome-DSDO/blob/main/Copy_of_Assignment_for_KNN_manchine_learning.ipynb\" target=\"_parent\"><img src=\"https://colab.research.google.com/assets/colab-badge.svg\" alt=\"Open In Colab\"/></a>"
      ]
    },
    {
      "cell_type": "markdown",
      "source": [
        "Exploratory Data Analysis (EDA)"
      ],
      "metadata": {
        "id": "6Vqz9Tlc2FG8"
      }
    },
    {
      "cell_type": "code",
      "execution_count": null,
      "metadata": {
        "id": "NwkhZa6ipsAw"
      },
      "outputs": [],
      "source": [
        "# Import necessary libraries for data manipulation and visualisation\n",
        "import pandas as pd\n",
        "import numpy as np\n",
        "import matplotlib.pyplot as plt\n",
        "import seaborn as sns\n",
        "\n",
        "# Scikit-learn libraries for model building, scaling, grid search, and evaluation\n",
        "from sklearn.model_selection import train_test_split, GridSearchCV\n",
        "from sklearn.preprocessing import StandardScaler\n",
        "from sklearn.neighbors import KNeighborsClassifier\n",
        "from sklearn.svm import SVC\n",
        "from sklearn.metrics import confusion_matrix, classification_report, roc_curve, auc\n",
        "\n",
        "import warnings\n",
        "warnings.filterwarnings('ignore')\n"
      ]
    },
    {
      "cell_type": "markdown",
      "source": [
        "Data Preparation\n",
        "\n",
        "Dealing with Missing Data.\n",
        "\n",
        "Dealing with Categorical Data  \n",
        "\n",
        "Dealing with Duplicated Data\n",
        "\n",
        "Partitioning a dataset into separate training and test sets.\n",
        "\n",
        "Rescaling Data.\n",
        "\n",
        "Standardization.\n",
        "\n",
        "Normalization.\n",
        "\n",
        "Binarization.\n",
        "\n",
        "Feature Selection and Feature Extraction"
      ],
      "metadata": {
        "id": "F6_PNdc13EUi"
      }
    },
    {
      "cell_type": "code",
      "source": [],
      "metadata": {
        "id": "jCx212n03EDQ"
      },
      "execution_count": null,
      "outputs": []
    },
    {
      "cell_type": "markdown",
      "metadata": {
        "id": "J3dzdtAtXAJ9"
      },
      "source": [
        "Data Cleaning and Preprocessing"
      ]
    },
    {
      "cell_type": "code",
      "execution_count": null,
      "metadata": {
        "id": "sQsWOs7JrOqu"
      },
      "outputs": [],
      "source": [
        "import pandas as pd\n",
        "\n",
        "# Reading Excel data\n",
        "df = pd.read_excel('DSML PMA Dataset2425.xlsx', sheet_name='Apps')\n",
        "\n",
        "# Make sure it's a DataFrame\n",
        "df = pd.DataFrame(df)"
      ]
    },
    {
      "cell_type": "markdown",
      "source": [
        "Dealing with Rating Missing Data."
      ],
      "metadata": {
        "id": "ARbmXZHK4Eeq"
      }
    },
    {
      "cell_type": "code",
      "execution_count": null,
      "metadata": {
        "colab": {
          "base_uri": "https://localhost:8080/"
        },
        "id": "GZDgzw9zYU31",
        "outputId": "19bf4865-5f50-4bc6-86cc-d28b805fc5d5"
      },
      "outputs": [
        {
          "output_type": "stream",
          "name": "stdout",
          "text": [
            "missing ---------- data\n",
            "App                1\n",
            "Category          13\n",
            "Rating             0\n",
            "Reviews            3\n",
            "Size               6\n",
            "Installs          12\n",
            "Type               7\n",
            "Price              0\n",
            "Content Rating     5\n",
            "Genres             7\n",
            "Last Updated       4\n",
            "Current Ver        7\n",
            "Android Ver        8\n",
            "dtype: int64\n"
          ]
        }
      ],
      "source": [
        "# missing data in Rating\n",
        "print(\"missing ---------- data\")\n",
        "df = df.dropna(subset=['Rating'])\n",
        "print(df.isnull().sum())"
      ]
    },
    {
      "cell_type": "markdown",
      "source": [
        "Imputing missing value"
      ],
      "metadata": {
        "id": "xOseIyiL5kxE"
      }
    },
    {
      "cell_type": "code",
      "execution_count": null,
      "metadata": {
        "id": "e9uc8ei1bL7K",
        "colab": {
          "base_uri": "https://localhost:8080/"
        },
        "outputId": "f34ab8a7-213d-4a14-d623-997133d035fa"
      },
      "outputs": [
        {
          "output_type": "stream",
          "name": "stdout",
          "text": [
            "App                1\n",
            "Category          13\n",
            "Rating             0\n",
            "Reviews            3\n",
            "Size               6\n",
            "Installs          12\n",
            "Type               0\n",
            "Price              0\n",
            "Content Rating     4\n",
            "Genres             7\n",
            "Last Updated       4\n",
            "Current Ver        7\n",
            "Android Ver        7\n",
            "dtype: int64\n"
          ]
        }
      ],
      "source": [
        "# Handling of outliers\n",
        "df.drop(df[df['Rating'] > 5].index, inplace=True)\n",
        "# Fill in missing values\n",
        "df.loc[(df['Price'] != 0) & (df['Type'].isnull()), 'Type'] = 'Paid'\n",
        "df.loc[(df['Price'] == 0) & (df['Type'].isnull()), 'Type'] = 'Free'\n",
        "# Convert the target variable\n",
        "df['Type'] = df['Type'].map({'Free': 0, 'Paid': 1})\n",
        "# 转换 Rating 为二分类标签（高评分 >= 4.0 -> 1, 低评分 < 4.0 -> 0）\n",
        "df['Rating'] = np.where(df['Rating'] >= 4.0, 1, 0)\n",
        "print(df.isnull().sum())"
      ]
    },
    {
      "cell_type": "markdown",
      "source": [
        "Dealing with Duplicated Data"
      ],
      "metadata": {
        "id": "tiVsEhNx8xHO"
      }
    },
    {
      "cell_type": "code",
      "source": [
        "df.drop_duplicates(inplace=True)\n",
        "df.duplicated().value_counts()"
      ],
      "metadata": {
        "colab": {
          "base_uri": "https://localhost:8080/",
          "height": 115
        },
        "collapsed": true,
        "id": "DJSP4OIq9JU1",
        "outputId": "230ffdc6-2dad-457d-90a9-a2a480b7ed04"
      },
      "execution_count": null,
      "outputs": [
        {
          "output_type": "execute_result",
          "data": {
            "text/plain": [
              "False    8906\n",
              "Name: count, dtype: int64"
            ],
            "text/html": [
              "<div>\n",
              "<style scoped>\n",
              "    .dataframe tbody tr th:only-of-type {\n",
              "        vertical-align: middle;\n",
              "    }\n",
              "\n",
              "    .dataframe tbody tr th {\n",
              "        vertical-align: top;\n",
              "    }\n",
              "\n",
              "    .dataframe thead th {\n",
              "        text-align: right;\n",
              "    }\n",
              "</style>\n",
              "<table border=\"1\" class=\"dataframe\">\n",
              "  <thead>\n",
              "    <tr style=\"text-align: right;\">\n",
              "      <th></th>\n",
              "      <th>count</th>\n",
              "    </tr>\n",
              "  </thead>\n",
              "  <tbody>\n",
              "    <tr>\n",
              "      <th>False</th>\n",
              "      <td>8906</td>\n",
              "    </tr>\n",
              "  </tbody>\n",
              "</table>\n",
              "</div><br><label><b>dtype:</b> int64</label>"
            ]
          },
          "metadata": {},
          "execution_count": 25
        }
      ]
    },
    {
      "cell_type": "markdown",
      "source": [
        "分析Category为空的值"
      ],
      "metadata": {
        "id": "We_fie8BCp9i"
      }
    },
    {
      "cell_type": "markdown",
      "source": [
        "Category为空的一些数据有重复行，也就是这行数据是被重复的，只是缺少了Category的值，我通过Excel的筛选可以看出，比如AAFP除了缺失的数据其他是一样的，所以将它删除,有的缺失值就对应这一个App,所以这些数据不是很重要，处理的方式是直接删除。"
      ],
      "metadata": {
        "id": "M2s2CyDzBzxu"
      }
    },
    {
      "cell_type": "code",
      "source": [
        "# Handle NaNs to ensure that rows with empty `Category` are correctly identified\n",
        "df['Category'].fillna('', inplace=True)\n",
        "\n",
        "# Find rows where `Category` is empty\n",
        "category_missing = df[df['Category'] == '']\n",
        "\n",
        "# Get a list of `Apps` with an empty `Category`.\n",
        "missing_apps = category_missing['App'].unique()\n",
        "\n",
        "# Find the `App` in the big table `df` that also appears in `category_missing`.\n",
        "matching_apps_in_df = df[df['App'].isin(missing_apps)]\n",
        "\n",
        "# Sort by `App` so that identical `Apps` are listed together!\n",
        "matching_apps_in_df = matching_apps_in_df.sort_values(by=['App'])\n",
        "\n",
        "# print out the value\n",
        "print(\"\\n📌 `Category` 为空的 `App`，同时在大表中也存在：\")\n",
        "print(matching_apps_in_df)\n",
        "# 处理结果\n",
        "df = df.dropna(subset=['Category'])\n",
        "print(df.isnull().sum())"
      ],
      "metadata": {
        "colab": {
          "base_uri": "https://localhost:8080/"
        },
        "collapsed": true,
        "id": "cd4B0cLM_vtt",
        "outputId": "b6458d6f-3f3a-4601-a26c-7ffa220838a7"
      },
      "execution_count": null,
      "outputs": [
        {
          "output_type": "stream",
          "name": "stdout",
          "text": [
            "\n",
            "📌 `Category` 为空的 `App`，同时在大表中也存在：\n",
            "                                                     App       Category  \\\n",
            "2515                                                AAFP                  \n",
            "10768                                               AAFP        MEDICAL   \n",
            "250                                      AdWords Express                  \n",
            "279                                      AdWords Express       BUSINESS   \n",
            "2936   Adobe Photoshop Express:Photo Editor Collage M...    PHOTOGRAPHY   \n",
            "2814   Adobe Photoshop Express:Photo Editor Collage M...                  \n",
            "6590                            Blood Pressure(BP) Diary        MEDICAL   \n",
            "2510                            Blood Pressure(BP) Diary                  \n",
            "2626                           Couple - Relationship App                  \n",
            "2652                           Couple - Relationship App         SOCIAL   \n",
            "1187                                     Debonairs Pizza                  \n",
            "769                                   GMAT Question Bank                  \n",
            "317                                     Marvel Unlimited                  \n",
            "1186                       McDonald's - McDonald's Japan                  \n",
            "2613    Nextdoor - Local neighborhood news & classifieds         SOCIAL   \n",
            "2628    Nextdoor - Local neighborhood news & classifieds                  \n",
            "959                           Tubi TV - Free Movies & TV  ENTERTAINMENT   \n",
            "932                           Tubi TV - Free Movies & TV  ENTERTAINMENT   \n",
            "858                           Tubi TV - Free Movies & TV                  \n",
            "2678                          bigbasket - online grocery                  \n",
            "10840      iHoroscope - 2018 Daily Horoscope & Astrology                  \n",
            "\n",
            "       Rating Reviews                Size     Installs  Type Price  \\\n",
            "2515        0      63                 24M      10,000+     0     0   \n",
            "10768       0      63                 24M      10,000+     0     0   \n",
            "250         1    7149                 11M   1,000,000+     0     0   \n",
            "279         1    7149                 11M   1,000,000+     0     0   \n",
            "2936        1  914917  Varies with device  50,000,000+     0     0   \n",
            "2814        1  914804  Varies with device  50,000,000+     0     0   \n",
            "6590        0    3596                8.4M   1,000,000+     0     0   \n",
            "2510        0    3596                8.4M   1,000,000+     0     0   \n",
            "2626        1   33249                8.4M   1,000,000+     0     0   \n",
            "2652        1   33249                8.4M   1,000,000+     0     0   \n",
            "1187        0    3320                8.4M     500,000+     0     0   \n",
            "769         1     240                 29M      10,000+     0     0   \n",
            "317         0   22551                 11M   1,000,000+     0     0   \n",
            "1186        0  109784                 64M  10,000,000+     0     0   \n",
            "2613        1   51502                 20M   5,000,000+     0     0   \n",
            "2628        1   51504                 20M   5,000,000+     0     0   \n",
            "959         1  296771                 11M  10,000,000+     0     0   \n",
            "932         1  296829                 11M  10,000,000+     0     0   \n",
            "858         1  296771                 11M  10,000,000+     0     0   \n",
            "2678        1  216741  Varies with device   5,000,000+     0     0   \n",
            "10840       1  398307                 19M  10,000,000+     0     0   \n",
            "\n",
            "      Content Rating         Genres    Last Updated         Current Ver  \\\n",
            "2515        Everyone        Medical   June 22, 2018               2.3.1   \n",
            "10768       Everyone        Medical   June 22, 2018               2.3.1   \n",
            "250         Everyone       Business   July 31, 2018             2.6.158   \n",
            "279         Everyone       Business   July 31, 2018             2.6.158   \n",
            "2936        Everyone    Photography   July 22, 2018             5.0.508   \n",
            "2814        Everyone    Photography   July 22, 2018             5.0.508   \n",
            "6590        Everyone        Medical   July 18, 2018               4.0.9   \n",
            "2510        Everyone        Medical   July 18, 2018               4.0.9   \n",
            "2626        Everyone         Social   March 5, 2015               1.8.0   \n",
            "2652        Everyone         Social   March 5, 2015               1.8.0   \n",
            "1187        Everyone   Food & Drink  August 4, 2018             1.9.117   \n",
            "769         Everyone      Education  April 29, 2015               1.2.0   \n",
            "317             Teen         Comics   July 24, 2018              3.16.0   \n",
            "1186        Everyone   Food & Drink  August 3, 2018              4.0.30   \n",
            "2613            Teen         Social   July 25, 2018                2.69   \n",
            "2628            Teen         Social   July 25, 2018                2.69   \n",
            "959             Teen  Entertainment   July 15, 2018              2.13.5   \n",
            "932             Teen  Entertainment   July 15, 2018              2.13.5   \n",
            "858             Teen  Entertainment   July 15, 2018              2.13.5   \n",
            "2678        Everyone       Shopping  August 6, 2018               4.6.0   \n",
            "10840       Everyone      Lifestyle   July 25, 2018  Varies with device   \n",
            "\n",
            "              Android Ver  \n",
            "2515           5.0 and up  \n",
            "10768          5.0 and up  \n",
            "250            4.0 and up  \n",
            "279            4.0 and up  \n",
            "2936           4.4 and up  \n",
            "2814           4.4 and up  \n",
            "6590         4.0.3 and up  \n",
            "2510         4.0.3 and up  \n",
            "2626           2.3 and up  \n",
            "2652           2.3 and up  \n",
            "1187         4.0.3 and up  \n",
            "769          2.3.3 and up  \n",
            "317            4.4 and up  \n",
            "1186         4.0.3 and up  \n",
            "2613           5.0 and up  \n",
            "2628           5.0 and up  \n",
            "959            4.1 and up  \n",
            "932            4.1 and up  \n",
            "858            4.1 and up  \n",
            "2678           4.1 and up  \n",
            "10840  Varies with device  \n",
            "App                1\n",
            "Category           0\n",
            "Rating             0\n",
            "Reviews            3\n",
            "Size               6\n",
            "Installs          12\n",
            "Type               0\n",
            "Price              0\n",
            "Content Rating     4\n",
            "Genres             7\n",
            "Last Updated       4\n",
            "Current Ver        7\n",
            "Android Ver        7\n",
            "dtype: int64\n"
          ]
        }
      ]
    },
    {
      "cell_type": "markdown",
      "source": [
        "接下来将讨论Content Rating的空值，通过观察excel可以看出"
      ],
      "metadata": {
        "id": "uWvzprR2EgB4"
      }
    },
    {
      "cell_type": "code",
      "source": [
        "import pandas as pd\n",
        "# Remove spaces to avoid misclassification\n",
        "df['Content Rating'] = df['Content Rating'].str.strip()\n",
        "# Find rows with empty Content Rating\n",
        "CR_missing_rows = df[df['Content Rating'] == '']\n",
        "print(\"\\n Content Rating` for empty rows：\")\n",
        "print(CR_missing_rows)\n",
        "\n",
        "# By looking at the rows of excel `Unrated` there are only two rows, which have little effect on the training data, and the treatment is deleted.\n",
        "CR_unrated_rows = df[df['Content Rating'] == 'Unrated']\n",
        "print(CR_unrated_rows)\n",
        "\n",
        "# Removing Unrated Rows and Null Values\n",
        "df = df[df['Content Rating'] != 'Unrated']\n",
        "df = df.dropna(subset=['Content Rating'])\n",
        "print(df.isnull().sum())\n",
        "print(df['Content Rating'].value_counts())\n",
        "\n"
      ],
      "metadata": {
        "colab": {
          "base_uri": "https://localhost:8080/"
        },
        "id": "7x7ubRdtUSA7",
        "outputId": "286985fb-69e6-4a83-d436-7aa49dc0490b"
      },
      "execution_count": null,
      "outputs": [
        {
          "output_type": "stream",
          "name": "stdout",
          "text": [
            "\n",
            " Content Rating` for empty rows：\n",
            "Empty DataFrame\n",
            "Columns: [App, Category, Rating, Reviews, Size, Installs, Type, Price, Content Rating, Genres, Last Updated, Current Ver, Android Ver]\n",
            "Index: []\n",
            "                         App Category  Rating Reviews  Size Installs  Type  \\\n",
            "8266  DC Universe Online Map    TOOLS       1    1186  6.4M  50,000+     0   \n",
            "\n",
            "     Price Content Rating Genres       Last Updated Current Ver   Android Ver  \n",
            "8266     0        Unrated  Tools  February 27, 2012         1.3  2.3.3 and up  \n",
            "App                1\n",
            "Category           0\n",
            "Rating             0\n",
            "Reviews            3\n",
            "Size               6\n",
            "Installs          12\n",
            "Type               0\n",
            "Price              0\n",
            "Content Rating     0\n",
            "Genres             6\n",
            "Last Updated       4\n",
            "Current Ver        7\n",
            "Android Ver        7\n",
            "dtype: int64\n",
            "Content Rating\n",
            "Everyone           7105\n",
            "Teen               1023\n",
            "Mature 17+          410\n",
            "Everyone 10+        360\n",
            "Adults only 18+       3\n",
            "Name: count, dtype: int64\n"
          ]
        }
      ]
    },
    {
      "cell_type": "markdown",
      "source": [
        "接下来我将对数值型变量（Reviews，Installs,Price去掉符号，转换成浮点数或者整数。并且对Review和Installs的缺失值用众数进行填充，并且直接删除APP中的一个缺失值和Genres中的6个缺失值，并且删除对Rating影响不大的列（Last Updated，Current Ver ，Android Ver, Size)         "
      ],
      "metadata": {
        "id": "RqD0avLYjRdk"
      }
    },
    {
      "cell_type": "code",
      "source": [
        "# # delate the row with missing value\n",
        "df = df.dropna(subset=['App','Installs','Genres','Last Updated','Current Ver','Android Ver','Size','Reviews'])\n",
        "print(df.isnull().sum())"
      ],
      "metadata": {
        "colab": {
          "base_uri": "https://localhost:8080/"
        },
        "id": "QPHSPIoK5pOb",
        "outputId": "298aaa37-d905-41b7-a042-a82e9f91d7a8"
      },
      "execution_count": null,
      "outputs": [
        {
          "output_type": "stream",
          "name": "stdout",
          "text": [
            "App               0\n",
            "Category          0\n",
            "Rating            0\n",
            "Reviews           0\n",
            "Size              0\n",
            "Installs          0\n",
            "Type              0\n",
            "Price             0\n",
            "Content Rating    0\n",
            "Genres            0\n",
            "Last Updated      0\n",
            "Current Ver       0\n",
            "Android Ver       0\n",
            "dtype: int64\n"
          ]
        }
      ]
    },
    {
      "cell_type": "code",
      "source": [
        "print(df.dtypes)"
      ],
      "metadata": {
        "colab": {
          "base_uri": "https://localhost:8080/"
        },
        "id": "sJxOGrE5m__l",
        "outputId": "359c4e73-15c6-4ffc-8c07-3ac4fb82c0d0"
      },
      "execution_count": null,
      "outputs": [
        {
          "output_type": "stream",
          "name": "stdout",
          "text": [
            "App               object\n",
            "Category          object\n",
            "Rating             int64\n",
            "Reviews           object\n",
            "Size              object\n",
            "Installs          object\n",
            "Type               int64\n",
            "Price             object\n",
            "Content Rating    object\n",
            "Genres            object\n",
            "Last Updated      object\n",
            "Current Ver       object\n",
            "Android Ver       object\n",
            "dtype: object\n"
          ]
        }
      ]
    },
    {
      "cell_type": "code",
      "source": [
        "to_excel = df.to_excel('data.xlsx')"
      ],
      "metadata": {
        "id": "jolT1eWfwedl"
      },
      "execution_count": null,
      "outputs": []
    },
    {
      "cell_type": "code",
      "source": [
        "# Price去掉`$`并且转换成float，并且删除Size, Current Ver 和Android Ver列\n",
        "df['Price'] = df['Price'].astype(str)\n",
        "df['Price'] = df['Price'].str.replace('$', '', regex=False)\n",
        "# Reviews去掉逗号并且转换成float\n",
        "df['Installs'] = df['Installs'].str.replace(',', '').str.replace('+', '')\n",
        "field_list = ['Reviews', 'Price', 'Installs', 'Type']\n",
        "# Convert to float\n",
        "for field in field_list:\n",
        "    df[field] = df[field].astype(float)\n",
        "# Let’s tidy this up by dropping the Size, Current Ver and ndroid Ver column\n",
        "df = df.drop(['Size','Current Ver','Android Ver'], axis=1)\n",
        "print(df.dtypes)"
      ],
      "metadata": {
        "colab": {
          "base_uri": "https://localhost:8080/"
        },
        "id": "kfnY9CoUnrxG",
        "outputId": "39cd7d0d-a52d-415c-e084-73a0997fbf16"
      },
      "execution_count": null,
      "outputs": [
        {
          "output_type": "stream",
          "name": "stdout",
          "text": [
            "App                object\n",
            "Category           object\n",
            "Rating              int64\n",
            "Reviews           float64\n",
            "Installs          float64\n",
            "Type              float64\n",
            "Price             float64\n",
            "Content Rating     object\n",
            "Genres             object\n",
            "Last Updated       object\n",
            "dtype: object\n"
          ]
        }
      ]
    },
    {
      "cell_type": "code",
      "source": [
        "\n",
        "# Display basic information about the dataset\n",
        "print(\"\\nData Information:\")\n",
        "print(df.info())\n",
        "\n",
        "print(\"\\nSummary Statistics:\")\n",
        "print(df.describe())\n",
        "\n",
        "# Check for missing values. (Note: Many rows may have missing Customer ID.)\n",
        "print(\"\\nMissing values per column:\")\n",
        "print(df.isnull().sum())\n"
      ],
      "metadata": {
        "colab": {
          "base_uri": "https://localhost:8080/"
        },
        "id": "DspR7vtguthC",
        "outputId": "02b3742c-d637-4c14-8b84-dfd77fee1a2e"
      },
      "execution_count": null,
      "outputs": [
        {
          "output_type": "stream",
          "name": "stdout",
          "text": [
            "\n",
            "Data Information:\n",
            "<class 'pandas.core.frame.DataFrame'>\n",
            "Index: 8855 entries, 0 to 10840\n",
            "Data columns (total 10 columns):\n",
            " #   Column          Non-Null Count  Dtype  \n",
            "---  ------          --------------  -----  \n",
            " 0   App             8855 non-null   object \n",
            " 1   Category        8855 non-null   object \n",
            " 2   Rating          8855 non-null   int64  \n",
            " 3   Reviews         8855 non-null   float64\n",
            " 4   Installs        8855 non-null   float64\n",
            " 5   Type            8855 non-null   float64\n",
            " 6   Price           8855 non-null   float64\n",
            " 7   Content Rating  8855 non-null   object \n",
            " 8   Genres          8855 non-null   object \n",
            " 9   Last Updated    8855 non-null   object \n",
            "dtypes: float64(4), int64(1), object(5)\n",
            "memory usage: 761.0+ KB\n",
            "None\n",
            "\n",
            "Summary Statistics:\n",
            "            Rating       Reviews      Installs         Type        Price\n",
            "count  8855.000000  8.855000e+03  8.855000e+03  8855.000000  8855.000000\n",
            "mean      0.780915  4.739690e+05  1.654273e+07     0.068436     0.963743\n",
            "std       0.413650  2.910471e+06  8.654603e+07     0.252507    16.222567\n",
            "min       0.000000  1.000000e+00  1.000000e+00     0.000000     0.000000\n",
            "25%       1.000000  1.640000e+02  1.000000e+04     0.000000     0.000000\n",
            "50%       1.000000  4.724000e+03  5.000000e+05     0.000000     0.000000\n",
            "75%       1.000000  7.142650e+04  5.000000e+06     0.000000     0.000000\n",
            "max       1.000000  7.815831e+07  1.000000e+09     1.000000   400.000000\n",
            "\n",
            "Missing values per column:\n",
            "App               0\n",
            "Category          0\n",
            "Rating            0\n",
            "Reviews           0\n",
            "Installs          0\n",
            "Type              0\n",
            "Price             0\n",
            "Content Rating    0\n",
            "Genres            0\n",
            "Last Updated      0\n",
            "dtype: int64\n"
          ]
        }
      ]
    },
    {
      "cell_type": "markdown",
      "source": [
        "Mapping Nominal Features"
      ],
      "metadata": {
        "id": "ydzHa5AazUlq"
      }
    },
    {
      "cell_type": "code",
      "source": [
        "from sklearn.preprocessing import LabelEncoder\n",
        "import pandas as pd\n",
        "# Identify categorical features.\n",
        "categorical_cols = ['App', 'Category', 'Last Updated', 'Content Rating', 'Genres']\n",
        "# One-hot encode categorical features.\n",
        "df_encoded = pd.get_dummies(df, columns=categorical_cols, drop_first=True)\n",
        "print(\"\\nEncoded dataset shape:\", df_encoded.shape)\n",
        "print(df_encoded.head())"
      ],
      "metadata": {
        "colab": {
          "base_uri": "https://localhost:8080/"
        },
        "id": "KFIvXmooDYfy",
        "outputId": "80380c8a-bded-4187-f5ae-279e851994eb"
      },
      "execution_count": null,
      "outputs": [
        {
          "output_type": "stream",
          "name": "stdout",
          "text": [
            "\n",
            "Encoded dataset shape: (8855, 9611)\n",
            "   Rating   Reviews    Installs  Type  Price  App_.R  App_/u/app  App_058.ba  \\\n",
            "0       1     159.0     10000.0   0.0    0.0   False       False       False   \n",
            "1       0     967.0    500000.0   0.0    0.0   False       False       False   \n",
            "2       1   87510.0   5000000.0   0.0    0.0   False       False       False   \n",
            "3       1  215644.0  50000000.0   0.0    0.0   False       False       False   \n",
            "4       1     967.0    100000.0   0.0    0.0   False       False       False   \n",
            "\n",
            "   App_1. FC KÃ¶ln App  App_10 Best Foods for You  ...  Genres_Tools  \\\n",
            "0                False                      False  ...         False   \n",
            "1                False                      False  ...         False   \n",
            "2                False                      False  ...         False   \n",
            "3                False                      False  ...         False   \n",
            "4                False                      False  ...         False   \n",
            "\n",
            "   Genres_Tools;Education  Genres_Travel & Local  \\\n",
            "0                   False                  False   \n",
            "1                   False                  False   \n",
            "2                   False                  False   \n",
            "3                   False                  False   \n",
            "4                   False                  False   \n",
            "\n",
            "   Genres_Travel & Local;Action & Adventure  Genres_Trivia  \\\n",
            "0                                     False          False   \n",
            "1                                     False          False   \n",
            "2                                     False          False   \n",
            "3                                     False          False   \n",
            "4                                     False          False   \n",
            "\n",
            "   Genres_Video Players & Editors  Genres_Video Players & Editors;Creativity  \\\n",
            "0                           False                                      False   \n",
            "1                           False                                      False   \n",
            "2                           False                                      False   \n",
            "3                           False                                      False   \n",
            "4                           False                                      False   \n",
            "\n",
            "   Genres_Video Players & Editors;Music & Video  Genres_Weather  Genres_Word  \n",
            "0                                         False           False        False  \n",
            "1                                         False           False        False  \n",
            "2                                         False           False        False  \n",
            "3                                         False           False        False  \n",
            "4                                         False           False        False  \n",
            "\n",
            "[5 rows x 9611 columns]\n"
          ]
        }
      ]
    },
    {
      "cell_type": "code",
      "source": [
        "# import pandas as pd\n",
        "# from sklearn.preprocessing import OneHotEncoder\n",
        "# df['App'] = df['App'].str.lower()\n",
        "# rating_agg = df.groupby(['App', 'Category']).agg({\n",
        "#     'Type': 'first',\n",
        "#     'Content Rating': 'first',\n",
        "#     'Genres': 'first',\n",
        "#     'Rating': 'max',\n",
        "#     'Installs': 'max',\n",
        "#     'Reviews': 'median',\n",
        "# }).reset_index()\n",
        "# data_model = rating_agg[['Type', 'Content Rating', 'Genres', 'Rating', 'Reviews', 'Installs']]"
      ],
      "metadata": {
        "id": "3X-Taj_Pzude"
      },
      "execution_count": null,
      "outputs": []
    },
    {
      "cell_type": "code",
      "source": [
        "# 2. Train-Test Split\n",
        "# ---------------------------------------------------\n",
        "\n",
        "# Separate features and target.\n",
        "X = df_encoded.drop('Rating', axis=1)\n",
        "y = df_encoded['Rating']\n",
        "\n",
        "from imblearn.over_sampling import SMOTE\n",
        "\n",
        "# Split the data (80% train, 20% test) with stratification to preserve class proportions.\n",
        "X_train, X_test, y_train, y_test = train_test_split(X, y, test_size=0.2, random_state=42, stratify=y)\n",
        "sm = SMOTE(random_state=42)\n",
        "X_train_resampled, y_train_resampled = sm.fit_resample(X_train, y_train)\n",
        "# PAC\n",
        "from sklearn.decomposition import PCA                                                       # 3. 降维（PCA，减少 KNN 计算量）\n",
        "pca = PCA(n_components=10)\n",
        "X_train_pca = pca.fit_transform(X_train)\n",
        "X_test_pca = pca.transform(X_test)\n",
        "# 4. 归一化（KNN 需要归一化）\n",
        "scaler_knn = StandardScaler()\n",
        "X_train_knn_scaled = scaler_knn.fit_transform(X_train_pca)\n",
        "X_test_knn_scaled = scaler_knn.transform(X_test_pca)"
      ],
      "metadata": {
        "id": "kJp3heQDC6dz"
      },
      "execution_count": null,
      "outputs": []
    },
    {
      "cell_type": "code",
      "source": [
        "print(\"\\n-----KNN IMPLEMENTAION (Separate Steps)--\")\n",
        "# Step 1: Data Scaling for KNN.\n",
        "\n",
        "scaler_knn = StandardScaler()\n",
        "X_train_knn_scaled = scaler_knn.fit_transform(X_train)\n",
        "X_test_knn_scaled = scaler_knn.transform(X_test)\n",
        "# Step 2: Define the KNN classifier.\n",
        "knn = KNeighborsClassifier()\n",
        "# Step 3: Set up the hyperparameter grid for KNN.\n",
        "param_grid_knn = {\n",
        "    'n_neighbors': list(range(5, 11)),\n",
        "    'weights': ['uniform', 'distance'],\n",
        "    'metric': ['euclidean', 'manhattan']\n",
        "}\n",
        "# Step 4: Set up GridSearchCV for hyperparameter tuning.\n",
        "grid_knn = GridSearchCV(knn, param_grid=param_grid_knn,\n",
        "                        cv=3, scoring='accuracy', n_jobs=-1, verbose=2)\n",
        "grid_knn.fit(X_train_knn_scaled, y_train)\n",
        "\n",
        "print(\"\\n--- KNN Results ---\")\n",
        "print(\"Best KNN parameters:\", grid_knn.best_params_)\n",
        "print(\"Best cross-validation accuracy for KNN: {:.4f}\".format(grid_knn.best_score_))"
      ],
      "metadata": {
        "colab": {
          "base_uri": "https://localhost:8080/"
        },
        "id": "j2xD3vqKU-Xf",
        "outputId": "2de2a95f-a544-488e-8594-7e4a907967a0"
      },
      "execution_count": null,
      "outputs": [
        {
          "output_type": "stream",
          "name": "stdout",
          "text": [
            "\n",
            "-----KNN IMPLEMENTAION (Separate Steps)--\n",
            "Fitting 3 folds for each of 24 candidates, totalling 72 fits\n",
            "\n",
            "--- KNN Results ---\n",
            "Best KNN parameters: {'metric': 'manhattan', 'n_neighbors': 7, 'weights': 'distance'}\n",
            "Best cross-validation accuracy for KNN: 0.7864\n"
          ]
        }
      ]
    },
    {
      "cell_type": "code",
      "source": [
        "# Evaluation the final KNN model on the test data\n",
        "y_pred_knn = grid_knn.predict(X_test_knn_scaled)\n",
        "print(\"\\nConfusion Matrix for KNN:\")\n",
        "print(confusion_matrix(y_test, y_pred_knn))\n",
        "print(\"cm_knn:\")\n",
        "print(\"\\nClassification Report for KNN:\")\n",
        "print(classification_report(y_test, y_pred_knn))\n",
        "# Plot the cpnfusion matrix using a heatmap\n",
        "plt.figure(figsize=(8, 6))\n",
        "sns.heatmap(confusion_matrix(y_test, y_pred_knn), annot=True, fmt='d', cmap='Blues')\n",
        "plt.title('Confusion Matrix for KNN')\n",
        "plt.xlabel('Predicted Labels')\n",
        "plt.ylabel('True Labels')\n",
        "plt.show()"
      ],
      "metadata": {
        "colab": {
          "base_uri": "https://localhost:8080/",
          "height": 852
        },
        "id": "Z03VXBUwWIc5",
        "outputId": "4b21ddef-cc1f-443f-dc68-77feeddb11ce"
      },
      "execution_count": null,
      "outputs": [
        {
          "output_type": "stream",
          "name": "stdout",
          "text": [
            "\n",
            "Confusion Matrix for KNN:\n",
            "[[   8  380]\n",
            " [   0 1383]]\n",
            "cm_knn:\n",
            "\n",
            "Classification Report for KNN:\n",
            "              precision    recall  f1-score   support\n",
            "\n",
            "           0       1.00      0.02      0.04       388\n",
            "           1       0.78      1.00      0.88      1383\n",
            "\n",
            "    accuracy                           0.79      1771\n",
            "   macro avg       0.89      0.51      0.46      1771\n",
            "weighted avg       0.83      0.79      0.70      1771\n",
            "\n"
          ]
        },
        {
          "output_type": "display_data",
          "data": {
            "text/plain": [
              "<Figure size 800x600 with 2 Axes>"
            ],
            "image/png": "[encoded data removed]"
          },
          "metadata": {}
        }
      ]
    }
  ],
  "metadata": {
    "colab": {
      "provenance": [],
      "gpuType": "T4",
      "include_colab_link": true
    },
    "kernelspec": {
      "display_name": "Python 3",
      "name": "python3"
    },
    "language_info": {
      "name": "python"
    },
    "accelerator": "GPU"
  },
  "nbformat": 4,
  "nbformat_minor": 0
}