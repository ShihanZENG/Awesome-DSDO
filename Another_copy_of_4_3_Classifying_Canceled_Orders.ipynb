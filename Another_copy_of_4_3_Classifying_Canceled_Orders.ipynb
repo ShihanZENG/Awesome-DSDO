{
  "nbformat": 4,
  "nbformat_minor": 0,
  "metadata": {
    "colab": {
      "provenance": [],
      "include_colab_link": true
    },
    "kernelspec": {
      "name": "python3",
      "display_name": "Python 3"
    },
    "language_info": {
      "name": "python"
    }
  },
  "cells": [
    {
      "cell_type": "markdown",
      "metadata": {
        "id": "view-in-github",
        "colab_type": "text"
      },
      "source": [
        "<a href=\"https://colab.research.google.com/github/ShihanZENG/Awesome-DSDO/blob/main/Another_copy_of_4_3_Classifying_Canceled_Orders.ipynb\" target=\"_parent\"><img src=\"https://colab.research.google.com/assets/colab-badge.svg\" alt=\"Open In Colab\"/></a>"
      ]
    },
    {
      "cell_type": "markdown",
      "source": [
        "# Data Science and Machine Learning - eBm DSDO\n",
        "\n",
        "## [Week 2] Classification Session"
      ],
      "metadata": {
        "id": "NiBh7M_Q5W8j"
      }
    },
    {
      "cell_type": "markdown",
      "source": [
        "# Analysis of the UCI Online Retail II Dataset\n",
        "\n",
        "**Business Context:**  \n",
        "An online retail business must quickly identify when an order (invoice) is cancelled. Cancellations are costly because they may indicate issues in the ordering process, inventory management, or customer dissatisfaction. In the UCI Online Retail II dataset, invoices that start with the letter \"C\" indicate canceled orders. In this project, we aggregate line‐item data to create invoice‐level features (e.g. total quantity, total amount, number of distinct items, and average unit price). We then build predictive models (KNN and SVM) to classify whether an invoice is cancelled (target = 1) or not (target = 0). Optimising these models via grid search will help us select the best hyperparameters and evaluate which model might be more suitable for the business.\n",
        "\n",
        "Download the [Online Retail II dataset here](https://archive.ics.uci.edu/dataset/502/online+retail+ii).\n"
      ],
      "metadata": {
        "id": "MxWv5kU26Bvu"
      }
    },
    {
      "cell_type": "markdown",
      "source": [
        "# Analysis with the KNN\n",
        "\n",
        "**K-Nearest Neighbors (KNN) Theory:**  \n",
        " KNN is a simple, non-parametric classification method that assigns a class label to a new data point based on the majority class among its *k* nearest neighbors in the feature space.  \n",
        " - **Distance Metric:** Typically, Euclidean distance is used.  \n",
        " - **Choice of k:** A small *k* may lead to a noisy decision boundary (overfitting), while a large *k* may smooth out class distinctions (underfitting).  \n",
        "\n",
        "\n",
        "**Project Outline:**  \n",
        " This project implementation was carried out as follows:\n",
        " - Data Loading and Understanding  \n",
        " - Data Cleaning and Preprocessing  \n",
        " - Feature Engineering and Target Creation  \n",
        " - Data Splitting and Scaling  \n",
        " - KNN and SVM Model Training and Hyperparameter Tuning (using cross-validation)  \n",
        " - Model Evaluation (including confusion matrix and detailed classification report)"
      ],
      "metadata": {
        "id": "U-6tYowV5TVy"
      }
    },
    {
      "cell_type": "code",
      "source": [
        "#!/usr/bin/env python\n",
        "# -*- coding: utf-8 -*-\n",
        "\n",
        "\"\"\"\n",
        "Project: Classification of Invoice Cancellations in an Online Retail Dataset\n",
        "Module: Data Science and Machine Learning\n",
        "Year: 24/25\n",
        "\n",
        "This project applies KNN and SVM models to the UCI Online Retail II dataset to classify whether an invoice\n",
        "represents a canceled order or not. Canceled invoices are marked with an InvoiceNo that starts with 'C'.\n",
        "We aggregate line-item transactional data into invoice-level features and then use machine learning to predict\n",
        "order cancellations—a useful task for e-business inventory management and customer service.\n",
        "\"\"\"\n",
        "# Import necessary libraries for data manipulation and visualisation\n",
        "import pandas as pd\n",
        "import numpy as np\n",
        "import matplotlib.pyplot as plt\n",
        "import seaborn as sns\n",
        "\n",
        "# Scikit-learn libraries for model building, scaling, grid search, and evaluation\n",
        "from sklearn.model_selection import train_test_split, GridSearchCV\n",
        "from sklearn.preprocessing import StandardScaler\n",
        "from sklearn.neighbors import KNeighborsClassifier\n",
        "from sklearn.svm import SVC\n",
        "from sklearn.metrics import confusion_matrix, classification_report, roc_curve, auc\n",
        "\n",
        "import warnings\n",
        "warnings.filterwarnings('ignore')\n"
      ],
      "metadata": {
        "id": "o1PUapYlVYtR"
      },
      "execution_count": null,
      "outputs": []
    },
    {
      "cell_type": "markdown",
      "source": [
        "## 1. Data Loading and Understanding\n",
        "\n",
        " We load the [UCI Online Retail II dataset](https://archive.ics.uci.edu/dataset/502/online+retail+ii) from an Excel file.  \n",
        " **Important notes regarding this dataset:**\n",
        " - The invoice identifier is given in the **Invoice** column.\n",
        " - The unit price is provided in the **Price** column.\n",
        "\n",
        " We'll start by inspecting the structure of the data, its shape, basic statistics, and check for missing values."
      ],
      "metadata": {
        "id": "PiJcUaNo6z_P"
      }
    },
    {
      "cell_type": "code",
      "source": [
        "# ---------------------------------------------------\n",
        "# 1. Data Understanding, Cleaning, and Transformation\n",
        "# ---------------------------------------------------\n",
        "# Load the dataset.\n",
        "# Adjust the file name and sheet name as necessary.\n",
        "import pandas as pd\n",
        "\n",
        "\n",
        "try:\n",
        "    df = pd.read_csv('bank.csv')\n",
        "except Exception as e:\n",
        "    print(\"Error loading dataset:\", e)\n",
        "    exit()\n",
        "\n",
        "print(\"Original dataset shape:\", df.shape)\n",
        "print(df.head())\n",
        "# drop missing value\n",
        "df = df.dropna(subset=['deposit'])\n"
      ],
      "metadata": {
        "colab": {
          "base_uri": "https://localhost:8080/"
        },
        "id": "VGjUgSNhVjEW",
        "outputId": "b70ac80b-23ed-4ef1-d54b-9b6a829d221d"
      },
      "execution_count": null,
      "outputs": [
        {
          "output_type": "stream",
          "name": "stdout",
          "text": [
            "Original dataset shape: (11162, 17)\n",
            "   age         job  marital  education default  balance housing loan  contact  \\\n",
            "0   59      admin.  married  secondary      no     2343     yes   no  unknown   \n",
            "1   56      admin.  married  secondary      no       45      no   no  unknown   \n",
            "2   41  technician  married  secondary      no     1270     yes   no  unknown   \n",
            "3   55    services  married  secondary      no     2476     yes   no  unknown   \n",
            "4   54      admin.  married   tertiary      no      184      no   no  unknown   \n",
            "\n",
            "   day month  duration  campaign  pdays  previous poutcome deposit  \n",
            "0    5   may      1042         1     -1         0  unknown     yes  \n",
            "1    5   may      1467         1     -1         0  unknown     yes  \n",
            "2    5   may      1389         1     -1         0  unknown     yes  \n",
            "3    5   may       579         1     -1         0  unknown     yes  \n",
            "4    5   may       673         2     -1         0  unknown     yes  \n"
          ]
        }
      ]
    },
    {
      "cell_type": "code",
      "source": [
        "# Convert the target variable 'deposit' to binary: 'yes' -> 1, 'no' -> 0.\n",
        "df['deposit'] = df['deposit'].map({'yes': 1, 'no': 0})\n",
        "\n",
        "# Identify categorical features.\n",
        "categorical_cols = ['job', 'marital', 'education', 'default', 'housing', 'loan', 'contact', 'month', 'poutcome']\n",
        "\n",
        "# One-hot encode categorical features.\n",
        "df_encoded = pd.get_dummies(df, columns=categorical_cols, drop_first=True)\n",
        "print(\"\\nEncoded dataset shape:\", df_encoded.shape)\n",
        "print(df_encoded.head())\n",
        "\n",
        "#define feature and target\n",
        "x = df_encoded.drop('deposit', axis=1)\n",
        "y = df_encoded['deposit']\n",
        "\n",
        "#----------------------\n",
        "2.# train -test split\n",
        "\n",
        "x_train, x_test, y_train, y_test = train_test_split(x, y, test_size=0.2, random_state=42, stratify=y)"
      ],
      "metadata": {
        "colab": {
          "base_uri": "https://localhost:8080/"
        },
        "id": "jRvqX0gPUOkK",
        "outputId": "2404b423-12e3-4bbe-ea1d-6169f02c2a97"
      },
      "execution_count": null,
      "outputs": [
        {
          "output_type": "stream",
          "name": "stdout",
          "text": [
            "\n",
            "Encoded dataset shape: (11162, 43)\n",
            "   age  balance  day  duration  campaign  pdays  previous  deposit  \\\n",
            "0   59     2343    5      1042         1     -1         0        1   \n",
            "1   56       45    5      1467         1     -1         0        1   \n",
            "2   41     1270    5      1389         1     -1         0        1   \n",
            "3   55     2476    5       579         1     -1         0        1   \n",
            "4   54      184    5       673         2     -1         0        1   \n",
            "\n",
            "   job_blue-collar  job_entrepreneur  ...  month_jul  month_jun  month_mar  \\\n",
            "0            False             False  ...      False      False      False   \n",
            "1            False             False  ...      False      False      False   \n",
            "2            False             False  ...      False      False      False   \n",
            "3            False             False  ...      False      False      False   \n",
            "4            False             False  ...      False      False      False   \n",
            "\n",
            "   month_may  month_nov  month_oct  month_sep  poutcome_other  \\\n",
            "0       True      False      False      False           False   \n",
            "1       True      False      False      False           False   \n",
            "2       True      False      False      False           False   \n",
            "3       True      False      False      False           False   \n",
            "4       True      False      False      False           False   \n",
            "\n",
            "   poutcome_success  poutcome_unknown  \n",
            "0             False              True  \n",
            "1             False              True  \n",
            "2             False              True  \n",
            "3             False              True  \n",
            "4             False              True  \n",
            "\n",
            "[5 rows x 43 columns]\n"
          ]
        }
      ]
    },
    {
      "cell_type": "code",
      "source": [
        "# Display basic information about the dataset\n",
        "print(\"\\nData Information:\")\n",
        "print(df.info())\n",
        "\n",
        "print(\"\\nSummary Statistics:\")\n",
        "print(df.describe())\n",
        "\n",
        "# Check for missing values. (Note: Many rows may have missing Customer ID.)\n",
        "print(\"\\nMissing values per column:\")\n",
        "print(df.isnull().sum())"
      ],
      "metadata": {
        "colab": {
          "base_uri": "https://localhost:8080/"
        },
        "id": "dJios_rxVku7",
        "outputId": "ef497aab-1eeb-4259-80ef-638ceebf5ff3"
      },
      "execution_count": null,
      "outputs": [
        {
          "output_type": "stream",
          "name": "stdout",
          "text": [
            "\n",
            "Data Information:\n",
            "<class 'pandas.core.frame.DataFrame'>\n",
            "RangeIndex: 11162 entries, 0 to 11161\n",
            "Data columns (total 17 columns):\n",
            " #   Column     Non-Null Count  Dtype \n",
            "---  ------     --------------  ----- \n",
            " 0   age        11162 non-null  int64 \n",
            " 1   job        11162 non-null  object\n",
            " 2   marital    11162 non-null  object\n",
            " 3   education  11162 non-null  object\n",
            " 4   default    11162 non-null  object\n",
            " 5   balance    11162 non-null  int64 \n",
            " 6   housing    11162 non-null  object\n",
            " 7   loan       11162 non-null  object\n",
            " 8   contact    11162 non-null  object\n",
            " 9   day        11162 non-null  int64 \n",
            " 10  month      11162 non-null  object\n",
            " 11  duration   11162 non-null  int64 \n",
            " 12  campaign   11162 non-null  int64 \n",
            " 13  pdays      11162 non-null  int64 \n",
            " 14  previous   11162 non-null  int64 \n",
            " 15  poutcome   11162 non-null  object\n",
            " 16  deposit    11162 non-null  int64 \n",
            "dtypes: int64(8), object(9)\n",
            "memory usage: 1.4+ MB\n",
            "None\n",
            "\n",
            "Summary Statistics:\n",
            "                age       balance           day      duration      campaign  \\\n",
            "count  11162.000000  11162.000000  11162.000000  11162.000000  11162.000000   \n",
            "mean      41.231948   1528.538524     15.658036    371.993818      2.508421   \n",
            "std       11.913369   3225.413326      8.420740    347.128386      2.722077   \n",
            "min       18.000000  -6847.000000      1.000000      2.000000      1.000000   \n",
            "25%       32.000000    122.000000      8.000000    138.000000      1.000000   \n",
            "50%       39.000000    550.000000     15.000000    255.000000      2.000000   \n",
            "75%       49.000000   1708.000000     22.000000    496.000000      3.000000   \n",
            "max       95.000000  81204.000000     31.000000   3881.000000     63.000000   \n",
            "\n",
            "              pdays      previous       deposit  \n",
            "count  11162.000000  11162.000000  11162.000000  \n",
            "mean      51.330407      0.832557      0.473840  \n",
            "std      108.758282      2.292007      0.499338  \n",
            "min       -1.000000      0.000000      0.000000  \n",
            "25%       -1.000000      0.000000      0.000000  \n",
            "50%       -1.000000      0.000000      0.000000  \n",
            "75%       20.750000      1.000000      1.000000  \n",
            "max      854.000000     58.000000      1.000000  \n",
            "\n",
            "Missing values per column:\n",
            "age          0\n",
            "job          0\n",
            "marital      0\n",
            "education    0\n",
            "default      0\n",
            "balance      0\n",
            "housing      0\n",
            "loan         0\n",
            "contact      0\n",
            "day          0\n",
            "month        0\n",
            "duration     0\n",
            "campaign     0\n",
            "pdays        0\n",
            "previous     0\n",
            "poutcome     0\n",
            "deposit      0\n",
            "dtype: int64\n"
          ]
        }
      ]
    },
    {
      "cell_type": "code",
      "source": [
        "print(\"\\n-- KNN implement(separate steps)\")\n",
        "#Step 1:scale the data for KNN 在KNN中标准化数据\n",
        "scaler_knn = StandardScaler()\n",
        "X_train_knn_scaled = scaler_knn.fit_transform(x_train)\n",
        "X_test_knn_scaled = scaler_knn.transform(x_test)\n",
        "#Step 2:define the KNN classifier\n",
        "knn = KNeighborsClassifier()\n",
        "#Step 3:Set up the hyperparmeter grid for KNN\n",
        "param_grid_knn = {\n",
        "    'n_neighbors': list(range(3, 16)),\n",
        "    'weights': ['uniform', 'distance'],\n",
        "    'metric': ['euclidean', 'manhattan']\n",
        "}\n",
        "#Step 4:perform grid search on the scaled teaining data\n",
        "grid_knn = GridSearchCV(knn, param_grid=param_grid_knn,\n",
        "                        cv=5, scoring='accuracy', n_jobs=-1)\n",
        "grid_knn.fit(X_train_knn_scaled, y_train)\n",
        "print(\"\\n--- KNN Results ---\")\n",
        "print(\"Best KNN parameters:\", grid_knn.best_params_)\n",
        "print(\"Best cross-validation accuracy for KNN: {:.4f}\".format(grid_knn.best_score_))\n"
      ],
      "metadata": {
        "colab": {
          "base_uri": "https://localhost:8080/"
        },
        "id": "Pw5JIA5RYl0Q",
        "outputId": "e7f7d8b2-2ca6-4994-8bbc-8e8bd6874fa1"
      },
      "execution_count": null,
      "outputs": [
        {
          "output_type": "stream",
          "name": "stdout",
          "text": [
            "\n",
            "-- KNN implement(separate steps)\n",
            "\n",
            "--- KNN Results ---\n",
            "Best KNN parameters: {'metric': 'manhattan', 'n_neighbors': 11, 'weights': 'distance'}\n",
            "Best cross-validation accuracy for KNN: 0.7743\n"
          ]
        }
      ]
    },
    {
      "cell_type": "code",
      "source": [
        "# Evaluate the final KNN model on the test set\n",
        "y_pred_knn = grid_knn.predict(X_test_knn_scaled)\n",
        "cm_knn = confusion_matrix(y_test, y_pred_knn)\n",
        "print(\"\\nClassification Report for KNN:\")\n",
        "print(classification_report(y_test, y_pred_knn))\n",
        "print(\"\\nConfusion Matrix for KNN:\")\n",
        "print(cm_knn)"
      ],
      "metadata": {
        "colab": {
          "base_uri": "https://localhost:8080/"
        },
        "id": "4kfZkB95RWq4",
        "outputId": "c3242ac7-48a8-4f8e-ad1e-ba7f4a0fc8f2"
      },
      "execution_count": null,
      "outputs": [
        {
          "output_type": "stream",
          "name": "stdout",
          "text": [
            "\n",
            "Classification Report for KNN:\n",
            "              precision    recall  f1-score   support\n",
            "\n",
            "           0       0.76      0.86      0.81      1175\n",
            "           1       0.82      0.69      0.75      1058\n",
            "\n",
            "    accuracy                           0.78      2233\n",
            "   macro avg       0.79      0.78      0.78      2233\n",
            "weighted avg       0.79      0.78      0.78      2233\n",
            "\n",
            "\n",
            "Confusion Matrix for KNN:\n",
            "[[1010  165]\n",
            " [ 323  735]]\n"
          ]
        }
      ]
    },
    {
      "cell_type": "code",
      "source": [
        "plt.figure(figsize=(6,4))\n",
        "sns.heatmap(cm_knn, annot=True, fmt='d', cmap='Blues', cbar=False)\n",
        "plt.title(\"Confusion Matrix\")\n",
        "plt.xlabel(\"Predicted Label\")\n",
        "plt.ylabel(\"True Label\")\n",
        "plt.show()"
      ],
      "metadata": {
        "colab": {
          "base_uri": "https://localhost:8080/",
          "height": 410
        },
        "id": "yFkN6VRoRy2P",
        "outputId": "a5c6520d-3477-4b08-a1e4-ed3f65c9e58e"
      },
      "execution_count": null,
      "outputs": [
        {
          "output_type": "display_data",
          "data": {
            "text/plain": [
              "<Figure size 600x400 with 1 Axes>"
            ],
            "image/png": "[encoded data removed]"
          },
          "metadata": {}
        }
      ]
    },
    {
      "cell_type": "markdown",
      "source": [
        "SVM"
      ],
      "metadata": {
        "id": "QmDBfaYITvta"
      }
    },
    {
      "cell_type": "code",
      "source": [],
      "metadata": {
        "id": "Qkr8nMKxTvD4"
      },
      "execution_count": null,
      "outputs": []
    },
    {
      "cell_type": "markdown",
      "source": [
        "## 2. Data Cleaning and Preprocessing\n",
        "\n",
        " **Data Cleaning Steps:**\n",
        " - **Remove Customer ID:** Remove this feature as it is not necessary for the analysis.\n",
        " - **Create Cancelled Feature:** Create a colum `Canceled` by adding '1' if `Invoice` starts with 'C' or '0' otherwise.\n",
        " - **Create TotalAmount Feature:** A new column is calculated as `Quantity × Price` for each transaction."
      ],
      "metadata": {
        "id": "bsT21k_L7hvq"
      }
    },
    {
      "cell_type": "markdown",
      "source": [
        "## 3. Feature Engineering and Target Variable Creation\n",
        "\n",
        " **Aggregation at Invoice Level:**  \n",
        "  Since one invoice can contain multiple line items, we aggregate the data by the **Invoice** column to obtain invoice-level features. For each invoice, compute:\n",
        "   - **TotalQuantity:** Sum of Quantity\n",
        "   - **TotalAmount:** Sum of TotalAmount\n",
        "   - **NumItems:** Count of unique StockCodes\n",
        "   - **AvgUnitPrice:** TotalAmount divided by TotalQuantity (avoid division by zero)\n",
        "   - **Canceled:** Maximum value of Canceled (if any line is canceled, mark the invoice as canceled)\n",
        "   - **Country:** Taking the first available value"
      ],
      "metadata": {
        "id": "FWTOepXT8qkn"
      }
    },
    {
      "cell_type": "code",
      "source": [
        "# ---------------------------------------------------\n",
        "# 3. K-Nearest Neighbors (KNN) Model\n",
        "# ---------------------------------------------------\n",
        "\n",
        "# For clarity, we copy the modeling DataFrame to \"data_knn\" (not strictly necessary, but follows the requirement).\n",
        "data_knn = data_model.copy()\n",
        "\n",
        "# Step 1: Data Scaling for KNN.\n",
        "scaler_knn = StandardScaler()\n",
        "X_train_knn_scaled = scaler_knn.fit_transform(X_train)\n",
        "X_test_knn_scaled = scaler_knn.transform(X_test)\n",
        "\n",
        "# Step 2: Define the KNN classifier.\n",
        "knn = KNeighborsClassifier()"
      ],
      "metadata": {
        "id": "ucLpbsL4U5Xr"
      },
      "execution_count": null,
      "outputs": []
    },
    {
      "cell_type": "code",
      "source": [
        "# Define a hyperparameter grid for KNN.\n",
        "param_grid_knn = {\n",
        "    'n_neighbors': list(range(3, 16)),\n",
        "    'weights': ['uniform', 'distance'],\n",
        "    'metric': ['euclidean', 'manhattan']\n",
        "}\n",
        "\n",
        "# Set up GridSearchCV for hyperparameter tuning.\n",
        "grid_knn = GridSearchCV(knn, param_grid=param_grid_knn,\n",
        "                        cv=5, scoring='accuracy', n_jobs=-1)\n",
        "grid_knn.fit(X_train_knn_scaled, y_train)\n",
        "\n",
        "print(\"\\n--- KNN Results ---\")\n",
        "print(\"Best KNN parameters:\", grid_knn.best_params_)\n",
        "print(\"Best cross-validation accuracy for KNN: {:.4f}\".format(grid_knn.best_score_))"
      ],
      "metadata": {
        "colab": {
          "base_uri": "https://localhost:8080/"
        },
        "id": "oG7h0hP-U2NV",
        "outputId": "9002f62c-8fe4-4422-9595-8d2a33d97012"
      },
      "execution_count": null,
      "outputs": [
        {
          "output_type": "stream",
          "name": "stdout",
          "text": [
            "\n",
            "--- KNN Results ---\n",
            "Best KNN parameters: {'metric': 'euclidean', 'n_neighbors': 3, 'weights': 'distance'}\n",
            "Best cross-validation accuracy for KNN: 0.9997\n"
          ]
        }
      ]
    },
    {
      "cell_type": "markdown",
      "source": [
        "The GridSearchCV objects (i.e. grid_knn) already store the final, best models in their `best_estimator_` attribute. This means that once the grid search is complete, you can immediately use `grid_knn.best_estimator_` as your final tuned models.\n",
        "\n",
        "However, if you prefer to explicitly create new model instances using the best parameters (for example, to retrain on a different split or for code clarity), you can extract the best parameters and instantiate fresh models. Here’s how you can do that:"
      ],
      "metadata": {
        "id": "vp-bgZrCgFoN"
      }
    },
    {
      "cell_type": "markdown",
      "source": [
        "## 7. KNN Model Evaluation\n",
        "\n",
        " We now evaluate the performance of our KNN classifier on the test set using:\n",
        "\n",
        " - **Confusion Matrix:**  \n",
        "   A table that shows the true versus predicted class counts.\n",
        "\n",
        " - **Classification Report:**  \n",
        "   Includes:\n",
        "   - **Precision:** Ratio of correctly predicted positive observations to the total predicted positives.  \n",
        "     *Precision = TP / (TP + FP)*  \n",
        "   - **Recall (Sensitivity):** Ratio of correctly predicted positive observations to all actual positives.  \n",
        "     *Recall = TP / (TP + FN)*  \n",
        "   - **F1-Score:** The weighted average of Precision and Recall.  \n",
        "   - **Support:** The number of actual occurrences of each class in the test set."
      ],
      "metadata": {
        "id": "QDl7emkzA16j"
      }
    },
    {
      "cell_type": "code",
      "source": [
        "# Evaluate the best KNN model on the test set.\n",
        "y_pred_knn = grid_knn.predict(X_test_knn_scaled)\n",
        "cm_knn = confusion_matrix(y_test, y_pred_knn)\n",
        "print(\"\\nClassification Report for KNN:\")\n",
        "print(classification_report(y_test, y_pred_knn))\n",
        "\n",
        "print(\"\\nConfusion Matrix for KNN:\")\n",
        "print(cm_knn)\n",
        "# Plot the confusion matrix using a heatmap\n",
        "plt.figure(figsize=(6, 4))\n",
        "sns.heatmap(cm_knn, annot=True, fmt='d', cmap='Blues', cbar=False)\n",
        "plt.title(\"Confusion Matrix\")\n",
        "plt.xlabel(\"Predicted Label\")\n",
        "plt.ylabel(\"True Label\")\n",
        "plt.show()"
      ],
      "metadata": {
        "colab": {
          "base_uri": "https://localhost:8080/",
          "height": 682
        },
        "id": "ES-Wmj7yUsE8",
        "outputId": "966836e3-4200-444c-b5e6-1da5d894eb80"
      },
      "execution_count": null,
      "outputs": [
        {
          "output_type": "stream",
          "name": "stdout",
          "text": [
            "\n",
            "Classification Report for KNN:\n",
            "              precision    recall  f1-score   support\n",
            "\n",
            "           0       1.00      1.00      1.00      3707\n",
            "           1       1.00      1.00      1.00       731\n",
            "\n",
            "    accuracy                           1.00      4438\n",
            "   macro avg       1.00      1.00      1.00      4438\n",
            "weighted avg       1.00      1.00      1.00      4438\n",
            "\n",
            "\n",
            "Confusion Matrix for KNN:\n",
            "[[3707    0]\n",
            " [   1  730]]\n"
          ]
        },
        {
          "output_type": "display_data",
          "data": {
            "text/plain": [
              "<Figure size 600x400 with 1 Axes>"
            ],
            "image/png": "[encoded data removed]"
          },
          "metadata": {}
        }
      ]
    },
    {
      "cell_type": "markdown",
      "source": [
        "## 8. Explanation of KNN Evaluation Metrics\n",
        "\n",
        "The confusion matrix represents the performance of the KNN classifier on the test data for a binary classification problem where:\n",
        "\n",
        "- **Class 0:** Invoice is *not canceled*\n",
        "- **Class 1:** Invoice is *canceled*\n",
        "\n",
        "### Breaking Down the Matrix\n",
        "\n",
        "- **True Negatives (TN):**  \n",
        "  - **Value:** 3707  \n",
        "  - **Interpretation:** Out of all the invoices that were truly not canceled, 3707 were correctly predicted as not canceled.\n",
        "\n",
        "- **False Positives (FP):**  \n",
        "  - **Value:** 0  \n",
        "  - **Interpretation:** There were no instances where a non-canceled invoice was incorrectly flagged as canceled. This is crucial for avoiding unnecessary investigations or corrective actions on orders that are actually valid.\n",
        "\n",
        "- **False Negatives (FN):**  \n",
        "  - **Value:** 1  \n",
        "  - **Interpretation:** Only 1 canceled invoice was mistakenly classified as not canceled. This low error is important because missing a cancellation could result in the business failing to address issues promptly.\n",
        "\n",
        "- **True Positives (TP):**  \n",
        "  - **Value:** 730  \n",
        "  - **Interpretation:** Out of the invoices that were actually canceled, 730 were correctly identified as canceled.\n",
        "\n",
        "### Performance Metrics Derived\n",
        "\n",
        "- **Accuracy**\n",
        "  \n",
        "  $= \\frac{TN + TP}{TN + FP + FN + TP} = \\frac{3707 + 730}{3707 + 0 + 1 + 730} \\approx 99.98\\%$\n",
        "  \n",
        "\n",
        "- **Sensitivity (Recall) for Canceled Invoices**\n",
        "\n",
        " $= \\frac{TP}{TP + FN} = \\frac{730}{730 + 1} \\approx 99.86\\%$\n",
        "\n",
        "- **Specificity for Non-Canceled Invoices**  \n",
        "  \n",
        "  $= \\frac{TN}{TN + FP} = \\frac{3707}{3707 + 0} = 100\\%$\n",
        "\n",
        "The results indicate that the KNN model performs almost perfectly, with extremely high accuracy and nearly no false positives or negatives.\n",
        "\n",
        "---\n",
        "\n",
        "## Business Insights from the KNN Confusion Matrix\n",
        "\n",
        "Given our case scenario—classifying invoices to determine if they are canceled (which signals potential issues like customer dissatisfaction or process inefficiencies)—the confusion matrix provides several key business insights:\n",
        "\n",
        "1. **Reliable Cancellation Detection:**  \n",
        "   - With 730 out of 731 canceled invoices correctly identified, the model provides high confidence in detecting cancellations. This means the business can use the model to reliably flag orders that require further attention.\n",
        "\n",
        "2. **Minimized Disruption:**  \n",
        "   - **No False Positives:** Since no valid (non-canceled) invoices are misclassified, the system avoids triggering unnecessary investigations. This helps prevent wastage of resources and ensures that only problematic orders are flagged.\n",
        "  \n",
        "3. **Operational Efficiency:**  \n",
        "   - **Low False Negative Rate:** With only 1 false negative, nearly all cancellations are captured. This minimizes the risk of overlooking problematic orders, allowing the business to address issues such as inventory mismatches or delivery problems swiftly.\n",
        "  \n",
        "4. **Proactive Issue Resolution:**  \n",
        "   - **Early Warning System:** The near-perfect classification allows the business to set up real-time monitoring systems. When an invoice is flagged as canceled, the relevant department (e.g., customer service or logistics) can quickly investigate and resolve the underlying issue.\n",
        "  \n",
        "5. **Data-Driven Process Improvements:**  \n",
        "   - **Insights into Cancellation Patterns:** By analyzing the invoices flagged by the model, the business can identify trends or recurring issues that lead to cancellations. This can guide efforts to improve order processing, customer communications, or inventory management.\n",
        "  \n",
        "6. **Resource Allocation:**  \n",
        "   - **Efficient Deployment of Teams:** The high accuracy of the model ensures that support teams can focus on truly problematic orders, rather than being bogged down by false alarms. This optimized allocation of human resources can lead to better customer satisfaction and cost savings.\n",
        "\n",
        "---\n",
        "\n",
        "## Conclusion\n",
        "\n",
        "The KNN confusion matrix demonstrates exceptional performance in classifying canceled versus non-canceled invoices. For the business, this translates to:\n",
        "- **High reliability** in detecting canceled orders.\n",
        "- **Efficient operations** due to minimal false positives and negatives.\n",
        "- **Enhanced decision-making** with data-driven insights into order cancellations.\n",
        "- **Optimized resource allocation** and proactive customer service interventions.\n",
        "\n",
        "By integrating this model into their operational systems, the business can automate the detection of cancellations, promptly address underlying issues, and continuously improve the order management process—ultimately enhancing both customer satisfaction and operational efficiency."
      ],
      "metadata": {
        "id": "fMktUDNaA6VB"
      }
    },
    {
      "cell_type": "markdown",
      "source": [
        "# Analysis with the SVM\n",
        "\n",
        "## Introduction to Support Vector Machines (SVM)\n",
        "\n",
        "Support Vector Machines (SVM) are a class of supervised learning algorithms used for classification (and regression) tasks. The main idea behind SVM is to find the optimal hyperplane that best separates the classes in the feature space. Here are the key concepts:\n",
        "\n",
        "- **Margin:**  \n",
        "  SVM seeks to maximize the margin—the distance between the hyperplane and the nearest data points (called **support vectors**) from each class. A larger margin leads to better generalization on unseen data.\n",
        "\n",
        "- **Support Vectors:**  \n",
        "  The data points that are closest to the hyperplane are critical in defining the position and orientation of the hyperplane. These are the support vectors.\n",
        "\n",
        "- **Kernel Trick:**  \n",
        "  In cases where the data is not linearly separable, SVM can use kernel functions to map the data into a higher-dimensional space where a linear separator may exist. Common kernels include:\n",
        "  - **Linear Kernel:** For linearly separable data.\n",
        "  - **Radial Basis Function (RBF) Kernel:** For non-linear decision boundaries.\n",
        "  - **Polynomial Kernel:** For data with polynomial relationships.\n",
        "\n",
        "- **Regularization Parameter (C):**  \n",
        "  The parameter `C` controls the trade-off between maximizing the margin and minimizing the classification error. A small `C` allows for a wider margin with more misclassifications, while a large `C` forces the model to classify all training examples correctly, which can lead to overfitting.\n",
        "\n",
        "- **Gamma (γ):**  \n",
        "  In kernels like RBF, `gamma` defines how far the influence of a single training example reaches. A small gamma means a large radius of influence, leading to smoother decision boundaries; a high gamma can lead to more complex boundaries.\n",
        "\n",
        "In this project, we use an SVM to classify invoices as \"cancelled\" or not based on aggregated features from the dataset."
      ],
      "metadata": {
        "id": "_vBTZDE8BCEP"
      }
    },
    {
      "cell_type": "code",
      "source": [
        "# ---------------------------------------------------\n",
        "# 4. Support Vector Machine (SVM) Model\n",
        "# ---------------------------------------------------\n",
        "\n",
        "# Similarly, create a copy for SVM modeling.\n",
        "\n",
        "# Step 1: Scale the data for SVM.\n",
        "scaler_svm = StandardScaler()\n",
        "X_train_svm_scaled = scaler_svm.fit_transform(x_train)\n",
        "X_test_svm_scaled = scaler_svm.transform(x_test)\n",
        "\n",
        "# Step 2: Define the SVM classifier.\n",
        "svm = SVC(probability=True)\n",
        "\n",
        "# Step 3; Set up the hyperparameter grid for svm\n",
        "param_grid_svm = {\n",
        "    'C': [0.1, 1, 10, 100],\n",
        "    'kernel': ['linear', 'rbf', 'poly'],\n",
        "    'gamma': ['scale', 'auto']\n",
        "}\n",
        "# Step 4 perform grid search on the scaled training data\n",
        "grid_svm = GridSearchCV(svm, param_grid=param_grid_svm,\n",
        "                        cv=5, scoring='accuracy', n_jobs=-1)\n",
        "grid_svm.fit(X_train_svm_scaled, y_train)\n",
        "print(\"\\n--- SVM Results ---\")\n",
        "print(\"Best SVM parameters:\", grid_svm.best_params_)\n",
        "print(\"Best cross-validation accuracy for SVM: {:.4f}\".format(grid_svm.best_score_))\n"
      ],
      "metadata": {
        "id": "anUo7xJDUYTY",
        "colab": {
          "base_uri": "https://localhost:8080/",
          "height": 217
        },
        "outputId": "07f0eade-8dc6-4de4-bd34-5dc190f8f0a3"
      },
      "execution_count": null,
      "outputs": [
        {
          "output_type": "error",
          "ename": "NameError",
          "evalue": "name 'StandardScaler' is not defined",
          "traceback": [
            "\u001b[0;31m---------------------------------------------------------------------------\u001b[0m",
            "\u001b[0;31mNameError\u001b[0m                                 Traceback (most recent call last)",
            "\u001b[0;32m<ipython-input-2-ec65aceafccf>\u001b[0m in \u001b[0;36m<cell line: 0>\u001b[0;34m()\u001b[0m\n\u001b[1;32m      6\u001b[0m \u001b[0;34m\u001b[0m\u001b[0m\n\u001b[1;32m      7\u001b[0m \u001b[0;31m# Step 1: Scale the data for SVM.\u001b[0m\u001b[0;34m\u001b[0m\u001b[0;34m\u001b[0m\u001b[0m\n\u001b[0;32m----> 8\u001b[0;31m \u001b[0mscaler_svm\u001b[0m \u001b[0;34m=\u001b[0m \u001b[0mStandardScaler\u001b[0m\u001b[0;34m(\u001b[0m\u001b[0;34m)\u001b[0m\u001b[0;34m\u001b[0m\u001b[0;34m\u001b[0m\u001b[0m\n\u001b[0m\u001b[1;32m      9\u001b[0m \u001b[0mX_train_svm_scaled\u001b[0m \u001b[0;34m=\u001b[0m \u001b[0mscaler_svm\u001b[0m\u001b[0;34m.\u001b[0m\u001b[0mfit_transform\u001b[0m\u001b[0;34m(\u001b[0m\u001b[0mx_train\u001b[0m\u001b[0;34m)\u001b[0m\u001b[0;34m\u001b[0m\u001b[0;34m\u001b[0m\u001b[0m\n\u001b[1;32m     10\u001b[0m \u001b[0mX_test_svm_scaled\u001b[0m \u001b[0;34m=\u001b[0m \u001b[0mscaler_svm\u001b[0m\u001b[0;34m.\u001b[0m\u001b[0mtransform\u001b[0m\u001b[0;34m(\u001b[0m\u001b[0mx_test\u001b[0m\u001b[0;34m)\u001b[0m\u001b[0;34m\u001b[0m\u001b[0;34m\u001b[0m\u001b[0m\n",
            "\u001b[0;31mNameError\u001b[0m: name 'StandardScaler' is not defined"
          ]
        }
      ]
    },
    {
      "cell_type": "markdown",
      "source": [
        "## 9. Hyperparameter Optimisation for SVM and Model training\n",
        "\n",
        "**Hyperparameter Optimization Explanation:**\n",
        "\n",
        "SVM performance depends heavily on the choice of hyperparameters. For an SVM, three key hyperparameters are:\n",
        "- **C (Regularization Parameter):**  \n",
        "  Controls the trade-off between achieving a low training error and a low testing error (i.e., model generalization).  \n",
        "- **Gamma (γ):**  \n",
        "  Determines the influence of a single training example. A small gamma implies a larger influence (smoother decision boundary), while a large gamma leads to a more complex decision boundary.\n",
        "- **Kernel (γ):**  \n",
        "  The kernel function transforms your data into a higher-dimensional space to make it easier to separate.\n",
        "\n",
        "We use `GridSearchCV` with 5-fold cross-validation to search for the optimal combination of `C`, `gamma` and `kernel` This approach helps us to select the best hyperparameters based on the training data without overfitting. Using the best hyperparameters obtained from GridSearchCV, we train the final SVM model on the training set."
      ],
      "metadata": {
        "id": "9mU1N4JkBYoe"
      }
    },
    {
      "cell_type": "code",
      "source": [
        "# Define a hyperparameter grid for SVM.\n",
        "param_grid_svm = {\n",
        "    'C': [0.1, 1, 10, 100],\n",
        "    'kernel': ['linear', 'rbf', 'poly'],\n",
        "    'gamma': ['scale', 'auto']\n",
        "}\n",
        "\n",
        "grid_svm = GridSearchCV(svm, param_grid=param_grid_svm,\n",
        "                        cv=5, scoring='accuracy', n_jobs=-1)\n",
        "grid_svm.fit(X_train_svm_scaled, y_train)\n",
        "\n",
        "print(\"\\n--- SVM Results ---\")\n",
        "print(\"Best SVM parameters:\", grid_svm.best_params_)\n",
        "print(\"Best cross-validation accuracy for SVM: {:.4f}\".format(grid_svm.best_score_))"
      ],
      "metadata": {
        "id": "HGxP6EmxBcyI"
      },
      "execution_count": null,
      "outputs": []
    },
    {
      "cell_type": "markdown",
      "source": [
        "The GridSearchCV objects (i.e. grid_svm) already store the final, best models in their `best_estimator_` attribute. This means that once the grid search is complete, you can immediately use `grid_svm.best_estimator_` as your final tuned models.\n",
        "\n",
        "However, if you prefer to explicitly create new model instances using the best parameters (for example, to retrain on a different split or for code clarity), you can extract the best parameters and instantiate fresh models. Here’s how you can do that:"
      ],
      "metadata": {
        "id": "k_XyazRICB20"
      }
    },
    {
      "cell_type": "code",
      "source": [
        "# Option 1: Use the already-fitted best estimator\n",
        "final_svm_model = grid_svm.best_estimator_\n",
        "\n",
        "# Option 2: Explicitly create and refit the final SVM model using the best parameters\n",
        "#best_svm_params = grid_svm.best_params_\n",
        "#final_svm_model_explicit = SVC(**best_svm_params)\n",
        "#final_svm_model_explicit.fit(X_train_svm_scaled, y_train)\n",
        "\n",
        "# Evaluate the final explicit SVM model on the test set.\n",
        "y_pred_final_svm = final_svm_model.predict(X_test_svm_scaled)\n",
        "print(\"\\nFinal SVM Model (explicit) - Classification Report:\")\n",
        "print(classification_report(y_test, y_pred_final_svm))"
      ],
      "metadata": {
        "id": "G4QwcZW2Cmgj"
      },
      "execution_count": null,
      "outputs": []
    },
    {
      "cell_type": "markdown",
      "source": [
        "## 10. SVM Model Evaluation\n",
        "\n",
        "We evaluate the performance of the SVM model on the test set using:\n",
        "- **Confusion Matrix:**  \n",
        "  A table showing the counts of true positives, true negatives, false positives, and false negatives.\n",
        "- **Classification Report:**  \n",
        "  Provides precision, recall, f1-score, and support for each class.\n",
        "  \n",
        "**Evaluation Metrics Explained:**\n",
        "- **Precision:**  \n",
        "  The ratio of correctly predicted positive observations to the total predicted positives. A high precision indicates a low false-positive rate.\n",
        "- **Recall (Sensitivity):**  \n",
        "  The ratio of correctly predicted positive observations to all actual positives. A high recall indicates a low false-negative rate.\n",
        "- **F1-Score:**  \n",
        "  The harmonic mean of precision and recall. It provides a balance between the two, especially useful when the class distribution is imbalanced.\n",
        "- **Support:**  \n",
        "  The number of actual occurrences of each class in the test set."
      ],
      "metadata": {
        "id": "gxjFc8jMCy3I"
      }
    },
    {
      "cell_type": "code",
      "source": [
        "# Evaluate the best SVM model on the test set.\n",
        "y_pred_svm = grid_svm.predict(X_test_svm_scaled)\n",
        "cm_svm = confusion_matrix(y_test, y_pred_svm)\n",
        "\n",
        "print(\"\\nClassification Report for SVM:\")\n",
        "print(classification_report(y_test, y_pred_svm))\n",
        "\n",
        "\n",
        "print(\"Confusion Matrix for SVM:\\n\", cm_svm)\n",
        "\n",
        "# Plot the confusion matrix using a heatmap\n",
        "plt.figure(figsize=(6, 4))\n",
        "sns.heatmap(cm_svm, annot=True, fmt='d', cmap='Blues', cbar=False)\n",
        "plt.title(\"Confusion Matrix\")\n",
        "plt.xlabel(\"Predicted Label\")\n",
        "plt.ylabel(\"True Label\")\n",
        "plt.show()"
      ],
      "metadata": {
        "id": "lrVMWCV7UeG4"
      },
      "execution_count": null,
      "outputs": []
    },
    {
      "cell_type": "markdown",
      "source": [
        "# Comparison of KNN and SVM Outcomes\n",
        "\n",
        "In our analysis of the UCI Online Retail II dataset, we implemented two distinct classifiers: K-Nearest Neighbors (KNN) and Support Vector Machines (SVM). Below is a summary comparing their outcomes.\n",
        "\n",
        "---\n",
        "\n",
        "## 1. Test Accuracy Comparison\n",
        "\n",
        "- **KNN Test Accuracy: 0.9998**  \n",
        "  - This indicates that the KNN model correctly classified 99.98% of the test invoices.\n",
        "  - Almost every non-canceled invoice and canceled invoice was correctly identified.\n",
        "  \n",
        "- **SVM Test Accuracy: 0.9953**  \n",
        "  - The SVM model correctly classified 99.53% of the test invoices.\n",
        "  - Although extremely high, SVM misclassified a few more instances compared to KNN.\n",
        "\n",
        "### Interpretation\n",
        "- **Marginal Difference:**  \n",
        "  The difference between 0.9998 and 0.9953 is minimal, suggesting that both models perform exceptionally well on this dataset.\n",
        "- **Local vs. Global Decision Boundaries:**  \n",
        "  - KNN, being a non-parametric method, classifies based on the local neighborhood in feature space, which seems to work extremely well given the extracted features.\n",
        "  - SVM finds a global decision boundary. The slightly lower accuracy might be due to a few borderline cases where the hyperplane was not optimal.\n",
        "  \n",
        "From a business perspective, both models deliver near-perfect performance. However, the marginally higher accuracy of the KNN model might make it the slightly preferred choice if even a few misclassifications (like a canceled order being missed) carry significant cost."
      ],
      "metadata": {
        "id": "A7I77bHIC5pD"
      }
    },
    {
      "cell_type": "code",
      "source": [
        "# ---------------------------------------------------\n",
        "# 5. Comparison of KNN and SVM\n",
        "# ---------------------------------------------------\n",
        "\n",
        "knn_test_accuracy = grid_knn.score(X_test_knn_scaled, y_test)\n",
        "svm_test_accuracy = grid_svm.score(X_test_svm_scaled, y_test)\n",
        "print(\"\\n--- Model Comparison ---\")\n",
        "print(\"KNN Test Accuracy: {:.4f}\".format(knn_test_accuracy))\n",
        "print(\"SVM Test Accuracy: {:.4f}\".format(svm_test_accuracy))\n",
        "\n",
        "# Plot confusion matrices side-by-side for visual comparison.\n",
        "fig, axes = plt.subplots(1, 2, figsize=(12, 5))\n",
        "sns.heatmap(cm_knn, annot=True, fmt='d', ax=axes[0], cmap='Blues')\n",
        "axes[0].set_title('KNN Confusion Matrix')\n",
        "axes[0].set_xlabel('Predicted Label')\n",
        "axes[0].set_ylabel('True Label')\n",
        "\n",
        "sns.heatmap(cm_svm, annot=True, fmt='d', ax=axes[1], cmap='Greens')\n",
        "axes[1].set_title('SVM Confusion Matrix')\n",
        "axes[1].set_xlabel('Predicted Label')\n",
        "axes[1].set_ylabel('True Label')\n",
        "\n",
        "plt.tight_layout()\n",
        "plt.show()"
      ],
      "metadata": {
        "id": "K1htutnpUXBv"
      },
      "execution_count": null,
      "outputs": []
    },
    {
      "cell_type": "markdown",
      "source": [
        "---\n",
        "\n",
        "## 2. ROC Curve Comparison\n",
        "\n",
        "- **ROC Curve Overview:**  \n",
        "  The ROC (Receiver Operating Characteristic) curve plots the true positive rate (sensitivity) against the false positive rate (1 – specificity) for various threshold values. The Area Under the Curve (AUC) quantifies the overall ability of the model to discriminate between the classes.\n",
        "\n",
        "- **Both Models Have an ROC AUC of 1.0:**  \n",
        "  - **Perfect Discrimination:** An AUC of 1.0 implies that both models perfectly rank canceled invoices higher than non-canceled ones across all thresholds.\n",
        "  - **No Overlap:** There is complete separation in the score distributions for the two classes, meaning every canceled invoice is given a higher probability or decision score than any non-canceled invoice.\n",
        "\n",
        "### Implications for the Business\n",
        "- **Reliability:**  \n",
        "  A perfect ROC curve indicates that if the business were to use these models with a threshold optimized for maximum sensitivity and specificity, both models would perfectly differentiate canceled from non-canceled orders.\n",
        "  \n",
        "- **Operational Confidence:**  \n",
        "  Even though the test accuracy of SVM is slightly lower, the perfect ROC curve means that, with proper threshold adjustment, the SVM can be tuned to eliminate false positives and negatives. This reinforces the reliability of both models in a real-world setting.\n",
        "\n",
        "- **Robust Decision Support:**  \n",
        "  Given the ROC results, the business can be confident that:\n",
        "  - **Canceled Orders:** All problematic orders are detected, ensuring that customer service and operations can intervene appropriately.\n",
        "  - **Valid Orders:** No valid orders are mistakenly flagged, avoiding unnecessary resource allocation for investigations.\n",
        "\n",
        "---"
      ],
      "metadata": {
        "id": "L2eB9b18DJxu"
      }
    },
    {
      "cell_type": "code",
      "source": [
        "# ---------------------------------------------------\n",
        "# 6. ROC Curve Comparison\n",
        "# ---------------------------------------------------\n",
        "# For KNN, use predicted probabilities (take the probability for class \"1\").\n",
        "y_proba_knn = grid_knn.predict_proba(X_test_knn_scaled)[:, 1]\n",
        "fpr_knn, tpr_knn, _ = roc_curve(y_test, y_proba_knn)\n",
        "roc_auc_knn = auc(fpr_knn, tpr_knn)\n",
        "\n",
        "# For SVM, use the decision_function scores.\n",
        "y_scores_svm = grid_svm.decision_function(X_test_svm_scaled)\n",
        "fpr_svm, tpr_svm, _ = roc_curve(y_test, y_scores_svm)\n",
        "roc_auc_svm = auc(fpr_svm, tpr_svm)\n",
        "\n",
        "# Plot the ROC curves.\n",
        "plt.figure(figsize=(8, 6))\n",
        "plt.plot(fpr_knn, tpr_knn, color='darkorange', lw=2,\n",
        "         label='KNN ROC curve (area = %0.2f)' % roc_auc_knn)\n",
        "plt.plot(fpr_svm, tpr_svm, color='blue', lw=2,\n",
        "         label='SVM ROC curve (area = %0.2f)' % roc_auc_svm)\n",
        "plt.plot([0, 1], [0, 1], color='navy', lw=2, linestyle='--')\n",
        "plt.xlim([0.0, 1.0])\n",
        "plt.ylim([0.0, 1.05])\n",
        "plt.xlabel('False Positive Rate')\n",
        "plt.ylabel('True Positive Rate')\n",
        "plt.title('ROC Curve Comparison')\n",
        "plt.legend(loc=\"lower right\")\n",
        "plt.show()"
      ],
      "metadata": {
        "id": "gh7nxklC4pdk"
      },
      "execution_count": null,
      "outputs": []
    },
    {
      "cell_type": "markdown",
      "source": [
        "## 3. Outcome Comparison Summary\n",
        "\n",
        "- **KNN:**\n",
        "  - **Pros:**  \n",
        "    - Simplicity and ease of interpretation.\n",
        "    - Its performance is relatively intuitive as it depends on the proximity of similar instances.\n",
        "  - **Cons:**  \n",
        "    - Sensitive to the choice of *k* and to the scaling of features.\n",
        "    - May struggle with high-dimensional data.\n",
        "  \n",
        "- **SVM:**\n",
        "  - **Pros:**  \n",
        "    - With the RBF kernel and proper hyperparameter tuning, SVM can capture complex decision boundaries.\n",
        "    - Often provides better generalization when classes are not linearly separable.\n",
        "  - **Cons:**  \n",
        "    - Requires careful tuning of hyperparameters (`C` and `gamma`).\n",
        "    - More computationally intensive, especially with large datasets.\n",
        "\n",
        "---\n",
        "## 4. Business Insights and Next Steps\n",
        "\n",
        "### Insights from the Metrics\n",
        "- **KNN’s Slight Edge:**  \n",
        "  The marginally higher test accuracy of KNN means that, in practice, it may slightly outperform SVM in correctly flagging canceled invoices. This is crucial in an environment where missing even one cancellation (false negative) could result in significant operational or financial impacts.\n",
        "  \n",
        "- **Perfect ROC for Both Models:**  \n",
        "  Both models exhibit perfect discrimination ability according to the ROC curve. This means that both have the potential to achieve flawless performance if the decision threshold is set appropriately. In practical terms, the business can adjust the sensitivity of the model to match operational needs.\n",
        "\n",
        "### How the Business Can Leverage the Model\n",
        "- **Real-Time Monitoring:**  \n",
        "  Deploy the model (whether KNN or SVM) to automatically monitor and flag invoices that are predicted to be canceled. This proactive system allows for immediate review and intervention.\n",
        "  \n",
        "- **Resource Optimization:**  \n",
        "  With high confidence in the predictions, the business can direct customer service and operational resources to focus only on those orders that are flagged, minimizing wasteful investigations.\n",
        "  \n",
        "- **Feedback Loop for Continuous Improvement:**  \n",
        "  Integrate model outputs into a feedback system. Actual outcomes can be recorded and used to periodically retrain the models, ensuring that performance remains optimal as market conditions or operational practices evolve.\n",
        "  \n",
        "- **Decision Threshold Tuning:**  \n",
        "  Although both models have a perfect ROC, the slight difference in test accuracy means that the business might prefer KNN for a marginally better performance. However, the decision threshold for either model can be tuned based on whether the business prioritizes minimizing false negatives (ensuring no canceled order is missed) or false positives (avoiding unnecessary investigations).\n",
        "\n",
        "---\n",
        "\n",
        "## Conclusion\n",
        "\n",
        "Both KNN and SVM models show outstanding performance in classifying canceled versus non-canceled invoices, with KNN achieving a test accuracy of 0.9998 and SVM 0.9953. The perfect ROC AUC of 1.0 for both models indicates that, at the optimal threshold, they can perfectly separate the two classes. For the business, this means reliable, data-driven detection of canceled orders, leading to efficient resource allocation and enhanced operational responsiveness. The slight edge of KNN in test accuracy, combined with the perfect ROC performance, positions it as an excellent candidate for deployment in real-time invoice monitoring systems."
      ],
      "metadata": {
        "id": "ns8zV7dKDAfi"
      }
    }
  ]
}